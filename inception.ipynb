{
 "cells": [
  {
   "cell_type": "code",
   "execution_count": 18,
   "metadata": {},
   "outputs": [
    {
     "name": "stderr",
     "output_type": "stream",
     "text": [
      "[nltk_data] Downloading package averaged_perceptron_tagger to\n",
      "[nltk_data]     /home/slava_oswald/nltk_data...\n",
      "[nltk_data]   Package averaged_perceptron_tagger is already up-to-\n",
      "[nltk_data]       date!\n"
     ]
    },
    {
     "data": {
      "text/plain": [
       "True"
      ]
     },
     "execution_count": 18,
     "metadata": {},
     "output_type": "execute_result"
    }
   ],
   "source": [
    "import pandas as pd\n",
    "import matplotlib.pyplot as plt\n",
    "import seaborn as sns\n",
    "from sklearn.model_selection import train_test_split\n",
    "from sklearn.preprocessing import StandardScaler\n",
    "import numpy as np\n",
    "import pandas as pd\n",
    "import numpy as np\n",
    "from nltk.tokenize import word_tokenize\n",
    "from nltk import pos_tag\n",
    "from nltk.corpus import stopwords\n",
    "from nltk.stem import WordNetLemmatizer\n",
    "from sklearn.preprocessing import LabelEncoder\n",
    "from collections import defaultdict\n",
    "from nltk.corpus import wordnet as wn\n",
    "from sklearn.feature_extraction.text import TfidfVectorizer\n",
    "from sklearn import model_selection, naive_bayes, svm\n",
    "from sklearn.metrics import accuracy_score\n",
    "import nltk\n",
    "nltk.download('averaged_perceptron_tagger')"
   ]
  },
  {
   "cell_type": "code",
   "execution_count": 19,
   "metadata": {},
   "outputs": [
    {
     "name": "stdout",
     "output_type": "stream",
     "text": [
      "        id                                             review  note\n",
      "0        1  Après le chef d'oeuvre super-héroïque The Dark...     5\n",
      "1        2  C’est fou ce qu’on aime détester Christopher N...     5\n",
      "2        3  CHEF D’ŒUVRE ! Le film est absolument parfait ...     5\n",
      "3        4  Un film aussi novateur que complexe, dont la m...     5\n",
      "4        5  Christopher Nolan est sûrement l'un des seuls ...     5\n",
      "...    ...                                                ...   ...\n",
      "8110  8111  Un très bon film ! Mais la trame d'action dépe...     4\n",
      "8111  8112  Il est une chef-d' œuvre!! Les acteurs savent ...     5\n",
      "8112  8113  Inception est l'un de mes films préférés ! Le ...     5\n",
      "8113  8114  Je j'ai vu en 2010, et 12 ans après c'est touj...     5\n",
      "8114  8115  Ce film est un chef d'oeuvre. Christopher Nola...     5\n",
      "\n",
      "[8115 rows x 3 columns]\n"
     ]
    }
   ],
   "source": [
    "data = pd.read_csv('inception.csv')\n",
    "print(data)"
   ]
  },
  {
   "cell_type": "code",
   "execution_count": 20,
   "metadata": {},
   "outputs": [
    {
     "data": {
      "text/plain": [
       "id        0\n",
       "review    1\n",
       "note      0\n",
       "dtype: int64"
      ]
     },
     "execution_count": 20,
     "metadata": {},
     "output_type": "execute_result"
    }
   ],
   "source": [
    "data.isnull().sum()"
   ]
  },
  {
   "cell_type": "code",
   "execution_count": 21,
   "metadata": {},
   "outputs": [
    {
     "name": "stdout",
     "output_type": "stream",
     "text": [
      "        id                                             review  note\n",
      "0        1  Après le chef d'oeuvre super-héroïque The Dark...     5\n",
      "1        2  C’est fou ce qu’on aime détester Christopher N...     5\n",
      "2        3  CHEF D’ŒUVRE ! Le film est absolument parfait ...     5\n",
      "3        4  Un film aussi novateur que complexe, dont la m...     5\n",
      "4        5  Christopher Nolan est sûrement l'un des seuls ...     5\n",
      "...    ...                                                ...   ...\n",
      "8110  8111  Un très bon film ! Mais la trame d'action dépe...     4\n",
      "8111  8112  Il est une chef-d' œuvre!! Les acteurs savent ...     5\n",
      "8112  8113  Inception est l'un de mes films préférés ! Le ...     5\n",
      "8113  8114  Je j'ai vu en 2010, et 12 ans après c'est touj...     5\n",
      "8114  8115  Ce film est un chef d'oeuvre. Christopher Nola...     5\n",
      "\n",
      "[8115 rows x 3 columns]\n"
     ]
    }
   ],
   "source": [
    "data = pd.DataFrame(data)\n",
    "print(data)"
   ]
  },
  {
   "cell_type": "code",
   "execution_count": 22,
   "metadata": {},
   "outputs": [],
   "source": [
    "data.dropna(axis = 0, how='any', inplace=True)\n"
   ]
  },
  {
   "cell_type": "code",
   "execution_count": 23,
   "metadata": {},
   "outputs": [
    {
     "data": {
      "text/plain": [
       "id        0\n",
       "review    0\n",
       "note      0\n",
       "dtype: int64"
      ]
     },
     "execution_count": 23,
     "metadata": {},
     "output_type": "execute_result"
    }
   ],
   "source": [
    "data.isnull().sum()"
   ]
  },
  {
   "cell_type": "code",
   "execution_count": 24,
   "metadata": {},
   "outputs": [
    {
     "name": "stdout",
     "output_type": "stream",
     "text": [
      "        id                                             review  note\n",
      "0        1  après le chef d'oeuvre super-héroïque the dark...     5\n",
      "1        2  c’est fou ce qu’on aime détester christopher n...     5\n",
      "2        3  chef d’œuvre ! le film est absolument parfait ...     5\n",
      "3        4  un film aussi novateur que complexe, dont la m...     5\n",
      "4        5  christopher nolan est sûrement l'un des seuls ...     5\n",
      "...    ...                                                ...   ...\n",
      "8110  8111  un très bon film ! mais la trame d'action dépe...     4\n",
      "8111  8112  il est une chef-d' œuvre!! les acteurs savent ...     5\n",
      "8112  8113  inception est l'un de mes films préférés ! le ...     5\n",
      "8113  8114  je j'ai vu en 2010, et 12 ans après c'est touj...     5\n",
      "8114  8115  ce film est un chef d'oeuvre. christopher nola...     5\n",
      "\n",
      "[8114 rows x 3 columns]\n"
     ]
    }
   ],
   "source": [
    "data['review'] = data['review'].map(str.lower)\n",
    "print(data)\n",
    "\n"
   ]
  },
  {
   "cell_type": "code",
   "execution_count": 25,
   "metadata": {},
   "outputs": [
    {
     "name": "stderr",
     "output_type": "stream",
     "text": [
      "[nltk_data] Downloading package punkt to\n",
      "[nltk_data]     /home/slava_oswald/nltk_data...\n",
      "[nltk_data]   Package punkt is already up-to-date!\n"
     ]
    },
    {
     "data": {
      "text/plain": [
       "True"
      ]
     },
     "execution_count": 25,
     "metadata": {},
     "output_type": "execute_result"
    }
   ],
   "source": [
    "import nltk\n",
    "nltk.download('punkt')"
   ]
  },
  {
   "cell_type": "code",
   "execution_count": 26,
   "metadata": {},
   "outputs": [
    {
     "name": "stderr",
     "output_type": "stream",
     "text": [
      "/tmp/ipykernel_343/3050455109.py:1: FutureWarning: The default value of regex will change from True to False in a future version.\n",
      "  data[\"review\"] = data['review'].str.replace('[^\\w\\s]','')\n"
     ]
    },
    {
     "name": "stdout",
     "output_type": "stream",
     "text": [
      "        id                                             review  note\n",
      "0        1  après le chef doeuvre superhéroïque the dark k...     5\n",
      "1        2  cest fou ce quon aime détester christopher nol...     5\n",
      "2        3  chef dœuvre  le film est absolument parfait  l...     5\n",
      "3        4  un film aussi novateur que complexe dont la mi...     5\n",
      "4        5  christopher nolan est sûrement lun des seuls r...     5\n",
      "...    ...                                                ...   ...\n",
      "8110  8111  un très bon film  mais la trame daction dépend...     4\n",
      "8111  8112  il est une chefd œuvre les acteurs savent très...     5\n",
      "8112  8113  inception est lun de mes films préférés  le ch...     5\n",
      "8113  8114  je jai vu en 2010 et 12 ans après cest toujour...     5\n",
      "8114  8115  ce film est un chef doeuvre christopher nolan ...     5\n",
      "\n",
      "[8114 rows x 3 columns]\n"
     ]
    }
   ],
   "source": [
    "data[\"review\"] = data['review'].str.replace('[^\\w\\s]','')\n",
    "print(data)"
   ]
  },
  {
   "cell_type": "code",
   "execution_count": 27,
   "metadata": {},
   "outputs": [
    {
     "name": "stderr",
     "output_type": "stream",
     "text": [
      "[nltk_data] Downloading package stopwords to\n",
      "[nltk_data]     /home/slava_oswald/nltk_data...\n",
      "[nltk_data]   Package stopwords is already up-to-date!\n"
     ]
    },
    {
     "name": "stdout",
     "output_type": "stream",
     "text": [
      "        id                                             review  note\n",
      "0        1  après chef doeuvre superhéroïque the dark knig...     5\n",
      "1        2  cest fou quon aime détester christopher nolanp...     5\n",
      "2        3  chef dœuvre film absolument parfait acteurs to...     5\n",
      "3        4  film aussi novateur complexe dont mise scène t...     5\n",
      "4        5  christopher nolan sûrement lun seuls réalisate...     5\n",
      "...    ...                                                ...   ...\n",
      "8110  8111  très bon film trame daction dépend grande part...     4\n",
      "8111  8112  chefd œuvre acteurs savent très bien hisoire l...     5\n",
      "8112  8113  inception lun films préférés changement entre ...     5\n",
      "8113  8114  jai vu 2010 12 ans après cest toujours chef dœ...     5\n",
      "8114  8115  film chef doeuvre christopher nolan clairement...     5\n",
      "\n",
      "[8114 rows x 3 columns]\n",
      "['au', 'aux', 'avec', 'ce', 'ces', 'dans', 'de', 'des', 'du', 'elle', 'en', 'et', 'eux', 'il', 'ils', 'je', 'la', 'le', 'les', 'leur', 'lui', 'ma', 'mais', 'me', 'même', 'mes', 'moi', 'mon', 'ne', 'nos', 'notre', 'nous', 'on', 'ou', 'par', 'pas', 'pour', 'qu', 'que', 'qui', 'sa', 'se', 'ses', 'son', 'sur', 'ta', 'te', 'tes', 'toi', 'ton', 'tu', 'un', 'une', 'vos', 'votre', 'vous', 'c', 'd', 'j', 'l', 'à', 'm', 'n', 's', 't', 'y', 'été', 'étée', 'étées', 'étés', 'étant', 'étante', 'étants', 'étantes', 'suis', 'es', 'est', 'sommes', 'êtes', 'sont', 'serai', 'seras', 'sera', 'serons', 'serez', 'seront', 'serais', 'serait', 'serions', 'seriez', 'seraient', 'étais', 'était', 'étions', 'étiez', 'étaient', 'fus', 'fut', 'fûmes', 'fûtes', 'furent', 'sois', 'soit', 'soyons', 'soyez', 'soient', 'fusse', 'fusses', 'fût', 'fussions', 'fussiez', 'fussent', 'ayant', 'ayante', 'ayantes', 'ayants', 'eu', 'eue', 'eues', 'eus', 'ai', 'as', 'avons', 'avez', 'ont', 'aurai', 'auras', 'aura', 'aurons', 'aurez', 'auront', 'aurais', 'aurait', 'aurions', 'auriez', 'auraient', 'avais', 'avait', 'avions', 'aviez', 'avaient', 'eut', 'eûmes', 'eûtes', 'eurent', 'aie', 'aies', 'ait', 'ayons', 'ayez', 'aient', 'eusse', 'eusses', 'eût', 'eussions', 'eussiez', 'eussent']\n"
     ]
    }
   ],
   "source": [
    "import nltk\n",
    "nltk.download('stopwords')\n",
    "from nltk.corpus import stopwords\n",
    "stop_words = stopwords.words('french')\n",
    "data['review'] = data['review'].apply(lambda x: ' '.join([word for word in x.split() if word not in (stop_words)]))\n",
    "print(data)\n",
    "print(stop_words)"
   ]
  },
  {
   "cell_type": "code",
   "execution_count": 11,
   "metadata": {},
   "outputs": [],
   "source": [
    "# data[\"review\"] = data['review'].apply(word_tokenize)\n",
    "# print(data)"
   ]
  },
  {
   "cell_type": "code",
   "execution_count": 28,
   "metadata": {},
   "outputs": [
    {
     "name": "stdout",
     "output_type": "stream",
     "text": [
      "        id                                             review  note\n",
      "0        1  après chef doeuvre superhéroïque the dark knig...     5\n",
      "1        2  cest fou quon aime détester christopher nolanp...     5\n",
      "2        3  chef dœuvre film absolument parfait acteurs to...     5\n",
      "3        4  film aussi novateur complexe dont mise scène t...     5\n",
      "4        5  christopher nolan sûrement lun seuls réalisate...     5\n",
      "...    ...                                                ...   ...\n",
      "8110  8111  très bon film trame daction dépend grande part...     4\n",
      "8111  8112  chefd œuvre acteurs savent très bien hisoire l...     5\n",
      "8112  8113  inception lun films préférés changement entre ...     5\n",
      "8113  8114  jai vu 2010 12 ans après cest toujours chef dœ...     5\n",
      "8114  8115  film chef doeuvre christopher nolan clairement...     5\n",
      "\n",
      "[8114 rows x 3 columns]\n"
     ]
    }
   ],
   "source": [
    "from french_lefff_lemmatizer.french_lefff_lemmatizer import FrenchLefffLemmatizer\n",
    "\n",
    "wordnet_lem = FrenchLefffLemmatizer()\n",
    "\n",
    "data['review'] = data['review'].apply(wordnet_lem.lemmatize)\n",
    "print(data)\n",
    "\n"
   ]
  },
  {
   "cell_type": "code",
   "execution_count": 13,
   "metadata": {},
   "outputs": [],
   "source": [
    "# new_data[\"review\"] = new_data['review'].apply(word_tokenize)\n",
    "# print(new_data)"
   ]
  },
  {
   "cell_type": "code",
   "execution_count": 29,
   "metadata": {},
   "outputs": [
    {
     "ename": "TypeError",
     "evalue": "'WordListCorpusReader' object is not iterable",
     "output_type": "error",
     "traceback": [
      "\u001b[0;31m---------------------------------------------------------------------------\u001b[0m",
      "\u001b[0;31mTypeError\u001b[0m                                 Traceback (most recent call last)",
      "Cell \u001b[0;32mIn [29], line 15\u001b[0m\n\u001b[1;32m     11\u001b[0m         tokens[i] \u001b[39m=\u001b[39m tokens[i]\u001b[39m.\u001b[39mlower()\n\u001b[1;32m     13\u001b[0m     comment_words \u001b[39m+\u001b[39m\u001b[39m=\u001b[39m \u001b[39m\"\u001b[39m\u001b[39m \u001b[39m\u001b[39m\"\u001b[39m\u001b[39m.\u001b[39mjoin(tokens)\u001b[39m+\u001b[39m\u001b[39m\"\u001b[39m\u001b[39m \u001b[39m\u001b[39m\"\u001b[39m\n\u001b[0;32m---> 15\u001b[0m wordcloud \u001b[39m=\u001b[39m WordCloud(width \u001b[39m=\u001b[39;49m \u001b[39m800\u001b[39;49m, height \u001b[39m=\u001b[39;49m \u001b[39m800\u001b[39;49m,\n\u001b[1;32m     16\u001b[0m             background_color \u001b[39m=\u001b[39;49m\u001b[39m'\u001b[39;49m\u001b[39mwhite\u001b[39;49m\u001b[39m'\u001b[39;49m,\n\u001b[1;32m     17\u001b[0m             stopwords \u001b[39m=\u001b[39;49m stopwords,\n\u001b[1;32m     18\u001b[0m             min_font_size \u001b[39m=\u001b[39;49m \u001b[39m10\u001b[39;49m)\u001b[39m.\u001b[39;49mgenerate(comment_words)\n\u001b[1;32m     20\u001b[0m \u001b[39m# plot the WordCloud image                      \u001b[39;00m\n\u001b[1;32m     21\u001b[0m plt\u001b[39m.\u001b[39mfigure(figsize \u001b[39m=\u001b[39m (\u001b[39m8\u001b[39m, \u001b[39m8\u001b[39m), facecolor \u001b[39m=\u001b[39m \u001b[39mNone\u001b[39;00m)\n",
      "File \u001b[0;32m~/exosql/myenv/lib/python3.8/site-packages/wordcloud/wordcloud.py:639\u001b[0m, in \u001b[0;36mWordCloud.generate\u001b[0;34m(self, text)\u001b[0m\n\u001b[1;32m    624\u001b[0m \u001b[39mdef\u001b[39;00m \u001b[39mgenerate\u001b[39m(\u001b[39mself\u001b[39m, text):\n\u001b[1;32m    625\u001b[0m     \u001b[39m\"\"\"Generate wordcloud from text.\u001b[39;00m\n\u001b[1;32m    626\u001b[0m \n\u001b[1;32m    627\u001b[0m \u001b[39m    The input \"text\" is expected to be a natural text. If you pass a sorted\u001b[39;00m\n\u001b[0;32m   (...)\u001b[0m\n\u001b[1;32m    637\u001b[0m \u001b[39m    self\u001b[39;00m\n\u001b[1;32m    638\u001b[0m \u001b[39m    \"\"\"\u001b[39;00m\n\u001b[0;32m--> 639\u001b[0m     \u001b[39mreturn\u001b[39;00m \u001b[39mself\u001b[39;49m\u001b[39m.\u001b[39;49mgenerate_from_text(text)\n",
      "File \u001b[0;32m~/exosql/myenv/lib/python3.8/site-packages/wordcloud/wordcloud.py:620\u001b[0m, in \u001b[0;36mWordCloud.generate_from_text\u001b[0;34m(self, text)\u001b[0m\n\u001b[1;32m    603\u001b[0m \u001b[39mdef\u001b[39;00m \u001b[39mgenerate_from_text\u001b[39m(\u001b[39mself\u001b[39m, text):\n\u001b[1;32m    604\u001b[0m     \u001b[39m\"\"\"Generate wordcloud from text.\u001b[39;00m\n\u001b[1;32m    605\u001b[0m \n\u001b[1;32m    606\u001b[0m \u001b[39m    The input \"text\" is expected to be a natural text. If you pass a sorted\u001b[39;00m\n\u001b[0;32m   (...)\u001b[0m\n\u001b[1;32m    618\u001b[0m \u001b[39m    self\u001b[39;00m\n\u001b[1;32m    619\u001b[0m \u001b[39m    \"\"\"\u001b[39;00m\n\u001b[0;32m--> 620\u001b[0m     words \u001b[39m=\u001b[39m \u001b[39mself\u001b[39;49m\u001b[39m.\u001b[39;49mprocess_text(text)\n\u001b[1;32m    621\u001b[0m     \u001b[39mself\u001b[39m\u001b[39m.\u001b[39mgenerate_from_frequencies(words)\n\u001b[1;32m    622\u001b[0m     \u001b[39mreturn\u001b[39;00m \u001b[39mself\u001b[39m\n",
      "File \u001b[0;32m~/exosql/myenv/lib/python3.8/site-packages/wordcloud/wordcloud.py:593\u001b[0m, in \u001b[0;36mWordCloud.process_text\u001b[0;34m(self, text)\u001b[0m\n\u001b[1;32m    590\u001b[0m \u001b[39mif\u001b[39;00m \u001b[39mself\u001b[39m\u001b[39m.\u001b[39mmin_word_length:\n\u001b[1;32m    591\u001b[0m     words \u001b[39m=\u001b[39m [word \u001b[39mfor\u001b[39;00m word \u001b[39min\u001b[39;00m words \u001b[39mif\u001b[39;00m \u001b[39mlen\u001b[39m(word) \u001b[39m>\u001b[39m\u001b[39m=\u001b[39m \u001b[39mself\u001b[39m\u001b[39m.\u001b[39mmin_word_length]\n\u001b[0;32m--> 593\u001b[0m stopwords \u001b[39m=\u001b[39m \u001b[39mset\u001b[39m([i\u001b[39m.\u001b[39mlower() \u001b[39mfor\u001b[39;00m i \u001b[39min\u001b[39;00m \u001b[39mself\u001b[39m\u001b[39m.\u001b[39mstopwords])\n\u001b[1;32m    594\u001b[0m \u001b[39mif\u001b[39;00m \u001b[39mself\u001b[39m\u001b[39m.\u001b[39mcollocations:\n\u001b[1;32m    595\u001b[0m     word_counts \u001b[39m=\u001b[39m unigrams_and_bigrams(words, stopwords, \u001b[39mself\u001b[39m\u001b[39m.\u001b[39mnormalize_plurals, \u001b[39mself\u001b[39m\u001b[39m.\u001b[39mcollocation_threshold)\n",
      "\u001b[0;31mTypeError\u001b[0m: 'WordListCorpusReader' object is not iterable"
     ]
    }
   ],
   "source": [
    "import matplotlib.pyplot as plt\n",
    "from wordcloud import WordCloud\n",
    "\n",
    "comment_words = ''\n",
    "\n",
    "for val in data:\n",
    "    val = str(val)\n",
    "    tokens = val.split()\n",
    "\n",
    "    for i in range(len(tokens)):\n",
    "        tokens[i] = tokens[i].lower()\n",
    "        \n",
    "    comment_words += \" \".join(tokens)+\" \"\n",
    "\n",
    "wordcloud = WordCloud(width = 800, height = 800,\n",
    "            background_color ='white',\n",
    "            stopwords = stopwords,\n",
    "            min_font_size = 10).generate(comment_words)\n",
    "\n",
    "# plot the WordCloud image                      \n",
    "plt.figure(figsize = (8, 8), facecolor = None)\n",
    "plt.imshow(wordcloud)\n",
    "plt.axis(\"off\")\n",
    "plt.tight_layout(pad = 0)\n",
    "plt.show()\n",
    "\n"
   ]
  },
  {
   "cell_type": "code",
   "execution_count": 30,
   "metadata": {},
   "outputs": [
    {
     "data": {
      "text/plain": [
       "<bound method Counter.most_common of FreqDist({'très bon film trame daction dépend grande partie effets spéciaux dailleurs très bien faits': 189, 'chefd œuvre acteurs savent très bien hisoire leurs personnages scénario très originale très complexe aussi spectateurs devons discener entre realité rêve vrai faux histoire très bien accompagné musique hans zimmer a composé bande originale curiosité raison debat fin film spoiler fin personnage principal laisse doute si scéne finale fait partie realité rêve': 189, 'inception lun films préférés changement entre réalité rêve si bien mis œuvre lensemble scénario montre lénorme créativité réalisateur acteurs jouent excellents font film quil époustouflant parfait complexité film scènes daction géniales créent suspense jusquà fin attirent ainsi lattention première dernière minute réalisation parfaite donc cinq étoiles part': 189, 'jai vu 2010 12 ans après cest toujours chef dœuvre toupie tombe fin jen': 189, 'film chef doeuvre christopher nolan clairement meilleurs réalisateurs tempsje dirais tout temps acteurs crédiblent meilleur rôle marion cotillard film comme vraie montagne russe fin fera tomber chaise réfléchir lendemain': 189, 'excellent': 7, 'excellent film': 4, 'tout simplement génial': 3, 'excellent film a voir absolument': 3, '': 3, ...})>"
      ]
     },
     "execution_count": 30,
     "metadata": {},
     "output_type": "execute_result"
    }
   ],
   "source": [
    "from nltk.probability import FreqDist\n",
    "words = data['review']\n",
    "fd = FreqDist(words)\n",
    "fd.most_common"
   ]
  },
  {
   "cell_type": "code",
   "execution_count": null,
   "metadata": {},
   "outputs": [],
   "source": [
    "# top_10 = fd.most_common(10)\n",
    "\n",
    "\n",
    "# fdist = pd.Series(dict(top_10))\n",
    "\n",
    "# import seaborn as sns\n",
    "# sns.set_theme(style=\"ticks\")\n",
    "\n",
    "# sns.barplot(y=fdist.index, x=fdist.values, color='green');"
   ]
  },
  {
   "cell_type": "code",
   "execution_count": 31,
   "metadata": {},
   "outputs": [
    {
     "data": {
      "text/html": [
       "<div>\n",
       "<style scoped>\n",
       "    .dataframe tbody tr th:only-of-type {\n",
       "        vertical-align: middle;\n",
       "    }\n",
       "\n",
       "    .dataframe tbody tr th {\n",
       "        vertical-align: top;\n",
       "    }\n",
       "\n",
       "    .dataframe thead th {\n",
       "        text-align: right;\n",
       "    }\n",
       "</style>\n",
       "<table border=\"1\" class=\"dataframe\">\n",
       "  <thead>\n",
       "    <tr style=\"text-align: right;\">\n",
       "      <th></th>\n",
       "      <th>id</th>\n",
       "      <th>review</th>\n",
       "      <th>note</th>\n",
       "      <th>output</th>\n",
       "    </tr>\n",
       "  </thead>\n",
       "  <tbody>\n",
       "    <tr>\n",
       "      <th>0</th>\n",
       "      <td>1</td>\n",
       "      <td>après chef doeuvre superhéroïque the dark knig...</td>\n",
       "      <td>5</td>\n",
       "      <td>1</td>\n",
       "    </tr>\n",
       "    <tr>\n",
       "      <th>1</th>\n",
       "      <td>2</td>\n",
       "      <td>cest fou quon aime détester christopher nolanp...</td>\n",
       "      <td>5</td>\n",
       "      <td>1</td>\n",
       "    </tr>\n",
       "    <tr>\n",
       "      <th>2</th>\n",
       "      <td>3</td>\n",
       "      <td>chef dœuvre film absolument parfait acteurs to...</td>\n",
       "      <td>5</td>\n",
       "      <td>1</td>\n",
       "    </tr>\n",
       "    <tr>\n",
       "      <th>3</th>\n",
       "      <td>4</td>\n",
       "      <td>film aussi novateur complexe dont mise scène t...</td>\n",
       "      <td>5</td>\n",
       "      <td>1</td>\n",
       "    </tr>\n",
       "    <tr>\n",
       "      <th>4</th>\n",
       "      <td>5</td>\n",
       "      <td>christopher nolan sûrement lun seuls réalisate...</td>\n",
       "      <td>5</td>\n",
       "      <td>1</td>\n",
       "    </tr>\n",
       "  </tbody>\n",
       "</table>\n",
       "</div>"
      ],
      "text/plain": [
       "   id                                             review  note  output\n",
       "0   1  après chef doeuvre superhéroïque the dark knig...     5       1\n",
       "1   2  cest fou quon aime détester christopher nolanp...     5       1\n",
       "2   3  chef dœuvre film absolument parfait acteurs to...     5       1\n",
       "3   4  film aussi novateur complexe dont mise scène t...     5       1\n",
       "4   5  christopher nolan sûrement lun seuls réalisate...     5       1"
      ]
     },
     "execution_count": 31,
     "metadata": {},
     "output_type": "execute_result"
    }
   ],
   "source": [
    "data['output'] = np.where(data['note']< 3, 0, 1)\n",
    "data.head()\n",
    "# new_data['review']=new_data['review'].apply(word_tokenize)\n",
    "# new_data"
   ]
  },
  {
   "cell_type": "code",
   "execution_count": null,
   "metadata": {},
   "outputs": [],
   "source": [
    "# from sklearn.feature_extraction.text import TfidfVectorizer\n",
    "# import nlpaug.augmenter.word as naw\n",
    "# X,Y=new_data[\"review\"], np.where(new_data['note']< 3 , 0, 1)\n",
    "# aug = naw.ContextualWordEmbsAug(\n",
    "#     model_path = 'bert-base-uncased',\n",
    "#     action = 'substitute')\n",
    "# augmented_text = aug.augment(X)\n",
    "# print(augmented_text)"
   ]
  },
  {
   "cell_type": "code",
   "execution_count": null,
   "metadata": {},
   "outputs": [
    {
     "data": {
      "text/html": [
       "<div>\n",
       "<style scoped>\n",
       "    .dataframe tbody tr th:only-of-type {\n",
       "        vertical-align: middle;\n",
       "    }\n",
       "\n",
       "    .dataframe tbody tr th {\n",
       "        vertical-align: top;\n",
       "    }\n",
       "\n",
       "    .dataframe thead th {\n",
       "        text-align: right;\n",
       "    }\n",
       "</style>\n",
       "<table border=\"1\" class=\"dataframe\">\n",
       "  <thead>\n",
       "    <tr style=\"text-align: right;\">\n",
       "      <th></th>\n",
       "      <th>id</th>\n",
       "      <th>review</th>\n",
       "      <th>note</th>\n",
       "      <th>output</th>\n",
       "    </tr>\n",
       "  </thead>\n",
       "  <tbody>\n",
       "    <tr>\n",
       "      <th>0</th>\n",
       "      <td>1</td>\n",
       "      <td>[après, chef, doeuvre, superhéroïque, the, dar...</td>\n",
       "      <td>5</td>\n",
       "      <td>1</td>\n",
       "    </tr>\n",
       "    <tr>\n",
       "      <th>1</th>\n",
       "      <td>2</td>\n",
       "      <td>[cest, fou, quon, aime, détester, christopher,...</td>\n",
       "      <td>5</td>\n",
       "      <td>1</td>\n",
       "    </tr>\n",
       "    <tr>\n",
       "      <th>2</th>\n",
       "      <td>3</td>\n",
       "      <td>[chef, dœuvre, film, absolument, parfait, acte...</td>\n",
       "      <td>5</td>\n",
       "      <td>1</td>\n",
       "    </tr>\n",
       "    <tr>\n",
       "      <th>3</th>\n",
       "      <td>4</td>\n",
       "      <td>[film, aussi, novateur, complexe, dont, mise, ...</td>\n",
       "      <td>5</td>\n",
       "      <td>1</td>\n",
       "    </tr>\n",
       "    <tr>\n",
       "      <th>4</th>\n",
       "      <td>5</td>\n",
       "      <td>[christopher, nolan, sûrement, lun, seuls, réa...</td>\n",
       "      <td>5</td>\n",
       "      <td>1</td>\n",
       "    </tr>\n",
       "  </tbody>\n",
       "</table>\n",
       "</div>"
      ],
      "text/plain": [
       "   id                                             review  note  output\n",
       "0   1  [après, chef, doeuvre, superhéroïque, the, dar...     5       1\n",
       "1   2  [cest, fou, quon, aime, détester, christopher,...     5       1\n",
       "2   3  [chef, dœuvre, film, absolument, parfait, acte...     5       1\n",
       "3   4  [film, aussi, novateur, complexe, dont, mise, ...     5       1\n",
       "4   5  [christopher, nolan, sûrement, lun, seuls, réa...     5       1"
      ]
     },
     "execution_count": 50,
     "metadata": {},
     "output_type": "execute_result"
    }
   ],
   "source": [
    "# data['review']=data['review'].apply(word_tokenize)\n",
    "# data.head()"
   ]
  },
  {
   "cell_type": "code",
   "execution_count": 40,
   "metadata": {},
   "outputs": [
    {
     "data": {
      "text/plain": [
       "(6491, 22774)"
      ]
     },
     "execution_count": 40,
     "metadata": {},
     "output_type": "execute_result"
    }
   ],
   "source": [
    "from sklearn import linear_model\n",
    "from sklearn.feature_extraction.text import TfidfVectorizer\n",
    "X,Y=data[\"review\"], np.where(data['note']< 3 , 0, 1)\n",
    "\n",
    "tfidf = TfidfVectorizer()\n",
    "\n",
    "X_train,X_test,Y_train,Y_test=train_test_split(X,Y,test_size=0.2, shuffle=True,random_state=3)\n",
    "X_train_vec = tfidf.fit_transform(X_train)\n",
    "#print(X_train_vec)\n",
    "\n",
    "X_test_vec = tfidf.transform(X_test)\n",
    "# print (X_test_vec)\n",
    "X_train_vec.shape\n",
    "\n"
   ]
  },
  {
   "cell_type": "code",
   "execution_count": 33,
   "metadata": {},
   "outputs": [
    {
     "data": {
      "text/html": [
       "<style>#sk-container-id-1 {color: black;background-color: white;}#sk-container-id-1 pre{padding: 0;}#sk-container-id-1 div.sk-toggleable {background-color: white;}#sk-container-id-1 label.sk-toggleable__label {cursor: pointer;display: block;width: 100%;margin-bottom: 0;padding: 0.3em;box-sizing: border-box;text-align: center;}#sk-container-id-1 label.sk-toggleable__label-arrow:before {content: \"▸\";float: left;margin-right: 0.25em;color: #696969;}#sk-container-id-1 label.sk-toggleable__label-arrow:hover:before {color: black;}#sk-container-id-1 div.sk-estimator:hover label.sk-toggleable__label-arrow:before {color: black;}#sk-container-id-1 div.sk-toggleable__content {max-height: 0;max-width: 0;overflow: hidden;text-align: left;background-color: #f0f8ff;}#sk-container-id-1 div.sk-toggleable__content pre {margin: 0.2em;color: black;border-radius: 0.25em;background-color: #f0f8ff;}#sk-container-id-1 input.sk-toggleable__control:checked~div.sk-toggleable__content {max-height: 200px;max-width: 100%;overflow: auto;}#sk-container-id-1 input.sk-toggleable__control:checked~label.sk-toggleable__label-arrow:before {content: \"▾\";}#sk-container-id-1 div.sk-estimator input.sk-toggleable__control:checked~label.sk-toggleable__label {background-color: #d4ebff;}#sk-container-id-1 div.sk-label input.sk-toggleable__control:checked~label.sk-toggleable__label {background-color: #d4ebff;}#sk-container-id-1 input.sk-hidden--visually {border: 0;clip: rect(1px 1px 1px 1px);clip: rect(1px, 1px, 1px, 1px);height: 1px;margin: -1px;overflow: hidden;padding: 0;position: absolute;width: 1px;}#sk-container-id-1 div.sk-estimator {font-family: monospace;background-color: #f0f8ff;border: 1px dotted black;border-radius: 0.25em;box-sizing: border-box;margin-bottom: 0.5em;}#sk-container-id-1 div.sk-estimator:hover {background-color: #d4ebff;}#sk-container-id-1 div.sk-parallel-item::after {content: \"\";width: 100%;border-bottom: 1px solid gray;flex-grow: 1;}#sk-container-id-1 div.sk-label:hover label.sk-toggleable__label {background-color: #d4ebff;}#sk-container-id-1 div.sk-serial::before {content: \"\";position: absolute;border-left: 1px solid gray;box-sizing: border-box;top: 0;bottom: 0;left: 50%;z-index: 0;}#sk-container-id-1 div.sk-serial {display: flex;flex-direction: column;align-items: center;background-color: white;padding-right: 0.2em;padding-left: 0.2em;position: relative;}#sk-container-id-1 div.sk-item {position: relative;z-index: 1;}#sk-container-id-1 div.sk-parallel {display: flex;align-items: stretch;justify-content: center;background-color: white;position: relative;}#sk-container-id-1 div.sk-item::before, #sk-container-id-1 div.sk-parallel-item::before {content: \"\";position: absolute;border-left: 1px solid gray;box-sizing: border-box;top: 0;bottom: 0;left: 50%;z-index: -1;}#sk-container-id-1 div.sk-parallel-item {display: flex;flex-direction: column;z-index: 1;position: relative;background-color: white;}#sk-container-id-1 div.sk-parallel-item:first-child::after {align-self: flex-end;width: 50%;}#sk-container-id-1 div.sk-parallel-item:last-child::after {align-self: flex-start;width: 50%;}#sk-container-id-1 div.sk-parallel-item:only-child::after {width: 0;}#sk-container-id-1 div.sk-dashed-wrapped {border: 1px dashed gray;margin: 0 0.4em 0.5em 0.4em;box-sizing: border-box;padding-bottom: 0.4em;background-color: white;}#sk-container-id-1 div.sk-label label {font-family: monospace;font-weight: bold;display: inline-block;line-height: 1.2em;}#sk-container-id-1 div.sk-label-container {text-align: center;}#sk-container-id-1 div.sk-container {/* jupyter's `normalize.less` sets `[hidden] { display: none; }` but bootstrap.min.css set `[hidden] { display: none !important; }` so we also need the `!important` here to be able to override the default hidden behavior on the sphinx rendered scikit-learn.org. See: https://github.com/scikit-learn/scikit-learn/issues/21755 */display: inline-block !important;position: relative;}#sk-container-id-1 div.sk-text-repr-fallback {display: none;}</style><div id=\"sk-container-id-1\" class=\"sk-top-container\"><div class=\"sk-text-repr-fallback\"><pre>LGBMClassifier(random_state=0)</pre><b>In a Jupyter environment, please rerun this cell to show the HTML representation or trust the notebook. <br />On GitHub, the HTML representation is unable to render, please try loading this page with nbviewer.org.</b></div><div class=\"sk-container\" hidden><div class=\"sk-item\"><div class=\"sk-estimator sk-toggleable\"><input class=\"sk-toggleable__control sk-hidden--visually\" id=\"sk-estimator-id-1\" type=\"checkbox\" checked><label for=\"sk-estimator-id-1\" class=\"sk-toggleable__label sk-toggleable__label-arrow\">LGBMClassifier</label><div class=\"sk-toggleable__content\"><pre>LGBMClassifier(random_state=0)</pre></div></div></div></div></div>"
      ],
      "text/plain": [
       "LGBMClassifier(random_state=0)"
      ]
     },
     "execution_count": 33,
     "metadata": {},
     "output_type": "execute_result"
    }
   ],
   "source": [
    "import lightgbm as lgb\n",
    "classifier = lgb.LGBMClassifier(random_state=0)\n",
    "classifier.fit(X_train_vec, Y_train)\n",
    " "
   ]
  },
  {
   "cell_type": "code",
   "execution_count": 34,
   "metadata": {},
   "outputs": [
    {
     "name": "stdout",
     "output_type": "stream",
     "text": [
      "Training accuracy 0.9920\n",
      "Testing accuracy 0.9187\n"
     ]
    }
   ],
   "source": [
    "print('Training accuracy {:.4f}'.format(classifier.score(X_train_vec,Y_train)))\n",
    "print('Testing accuracy {:.4f}'.format(classifier.score(X_test_vec,Y_test)))"
   ]
  },
  {
   "cell_type": "code",
   "execution_count": 35,
   "metadata": {},
   "outputs": [
    {
     "name": "stdout",
     "output_type": "stream",
     "text": [
      "90.51139864448552\n"
     ]
    },
    {
     "data": {
      "text/plain": [
       "0.9051139864448552"
      ]
     },
     "execution_count": 35,
     "metadata": {},
     "output_type": "execute_result"
    }
   ],
   "source": [
    "\n",
    "from sklearn import linear_model\n",
    "from sklearn.feature_extraction.text import TfidfVectorizer\n",
    "augmented_text,Y=data[\"review\"], np.where(data['note']< 3 , 0, 1)\n",
    "\n",
    "tfidf = TfidfVectorizer()\n",
    "\n",
    "X_train,X_test,Y_train,Y_test=train_test_split(X,Y,test_size=0.2, shuffle=True,random_state=3)\n",
    "X_train_vec = tfidf.fit_transform(X_train)\n",
    "# print(X_train_vec)\n",
    "\n",
    "X_test_vec = tfidf.transform(X_test)\n",
    "# print (X_test_vec)\n",
    "\n",
    "modele_regLog = linear_model.LogisticRegression(random_state = 0,\n",
    "solver = 'liblinear', multi_class = 'auto')\n",
    "\n",
    "modele_regLog.fit(X_train_vec,Y_train)\n",
    "precision = modele_regLog.score(X_test_vec,Y_test)\n",
    "print(precision*100)\n",
    "modele_regLog.score(X_train_vec,Y_train)\n",
    "modele_regLog.score(X_test_vec,Y_test)\n",
    "\n",
    "\n"
   ]
  },
  {
   "cell_type": "code",
   "execution_count": 36,
   "metadata": {},
   "outputs": [
    {
     "name": "stdout",
     "output_type": "stream",
     "text": [
      "[1 1 1 ... 1 1 1]\n"
     ]
    }
   ],
   "source": [
    "\n",
    "from sklearn.metrics import confusion_matrix\n",
    "y_pred = modele_regLog.predict(X_test_vec)\n",
    "# confusion_matrix(Y_test, y_pred)\n",
    "print(y_pred)\n",
    "\n"
   ]
  },
  {
   "cell_type": "code",
   "execution_count": 55,
   "metadata": {},
   "outputs": [
    {
     "name": "stderr",
     "output_type": "stream",
     "text": [
      "[nltk_data] Downloading package stopwords to\n",
      "[nltk_data]     /home/slava_oswald/nltk_data...\n",
      "[nltk_data]   Package stopwords is already up-to-date!\n"
     ]
    },
    {
     "name": "stdout",
     "output_type": "stream",
     "text": [
      "\n",
      "Voilà  1 mois après sa sortie  j ai pu m asseoir confortablement dans une salle quasiment désertique pour le terme de ce que Avengers   Infinity Wars avait agréablement initié  Abandonné sur un final d une désespérance bienvenue  après tant d années faites de quelques hauts  Avengers  Thor Ragnarok  Les guardiens de la galaxie   pas mal de   les Iron Man  Thor 1 et 2  Ant Man  et de beaucoup de bas  les Captain America  le second Guardien de la galaxie ou le second Avengers   la série cinématographique à succès commerciale touche à sa fin  Il faut conclure  de la plus    inutile des façons Triste constat  Ce Avengers m a tout simplement semblé être une perte de temps de 3 heures à l introduction pourtant intéressante  avec un clin d oeil en forme de mise en abîme qui lorgne plus vers le fan service que vers le véritable intérêt scénaristique  Le déroulé de cette dernière chance pour restaurer le cours des choses et venir à bout de Thanos traîne une certaine légèreté et une nostalgie bien souvent personnelle de nos super héros  en décalage avec la criticité de cette action de la dernière chance  Là où une noirceur à la manière d un  aurait été la bienvenue  Avengers   Endgame joue la carte de la sympathie et du rassemblement qui fonctionnait bien mieux avec l histoire du 1er opus  mais qui reste électrisant dans la bataille finale   Côté divertissement  on a connu mieux et plus inspiré et au final  on passe trop de temps à attendre  sans véritable adhésion  une conclusion bien trop évidente pour être pleinement satisfaisante  Les spoilers en pâtissent et le sort de nos héros nous rappellent que malgré les années  le MCU n a jamais réussi a décupler un quelconque attachement pour ses personnages  Certaines scènes s empêtrent dans le ridicule\n",
      "voilà  1 mois après sa sortie  j ai pu asseoir confortablement dans une salle quasiment désertique pour le terme de ce que avengers   infinity wars avait agréablement initié  abandonné sur un final une désespérance bienvenue  après tant années faites de quelques hauts  avengers  thor ragnarok  les guardiens de la galaxie   pas mal de   les iron man  thor 1 et 2  ant man  et de beaucoup de bas  les captain america  le second guardien de la galaxie ou le second avengers   la série cinématographique à succès commerciale touche à sa fin  il faut conclure  de la plus    inutile des façons triste constat  ce avengers tout simplement semblé être une perte de temps de 3 heures à l introduction pourtant intéressante  avec un clin oeil en forme de mise en abîme qui lorgne plus vers le fan service que vers le véritable intérêt scénaristique  le déroulé de cette dernière chance pour restaurer le cours des choses et venir à bout de thanos traîne une certaine légèreté et une nostalgie bien souvent personnelle de nos super héros  en décalage avec la criticité de cette action de la dernière chance  là où une noirceur à la manière un  aurait été la bienvenue  avengers   endgame joue la carte de la sympathie et du rassemblement qui fonctionnait bien mieux avec l histoire du 1er opus  mais qui reste électrisant dans la bataille finale   côté divertissement  connu mieux et plus inspiré et au final  passe trop de temps à attendre  sans véritable adhésion  une conclusion bien trop évidente pour être pleinement satisfaisante  les spoilers en pâtissent et le sort de nos héros nous rappellent que malgré les années  le mcu n jamais réussi décupler un quelconque attachement pour ses personnages  certaines scènes empêtrent dans le ridicule\n",
      "  (0, 22759)\t0.0774533989863702\n",
      "  (0, 22716)\t0.08334555259760563\n",
      "  (0, 22107)\t0.08334555259760563\n",
      "  (0, 22055)\t0.10714726584678493\n",
      "  (0, 21889)\t0.057909778460558975\n",
      "  (0, 21657)\t0.12222571765102129\n",
      "  (0, 21630)\t0.07010924641475137\n",
      "  (0, 21291)\t0.07114903880095763\n",
      "  (0, 21267)\t0.08218723403773485\n",
      "  (0, 21231)\t0.09226080433435643\n",
      "  (0, 21077)\t0.02389439695602926\n",
      "  (0, 21015)\t0.06694651052851867\n",
      "  (0, 20753)\t0.07010924641475137\n",
      "  (0, 20701)\t0.07394972418464156\n",
      "  (0, 20615)\t0.047860397080435144\n",
      "  (0, 20539)\t0.07048195526368953\n",
      "  (0, 20450)\t0.09988116608896452\n",
      "  (0, 20196)\t0.04524374382456519\n",
      "  (0, 20105)\t0.061112858825510645\n",
      "  (0, 19866)\t0.09226080433435643\n",
      "  (0, 19786)\t0.055725621030735896\n",
      "  (0, 19656)\t0.05407343981347942\n",
      "  (0, 19646)\t0.05357363292339246\n",
      "  (0, 19373)\t0.039976840080866806\n",
      "  (0, 19220)\t0.0661514274364629\n",
      "  :\t:\n",
      "  (0, 3307)\t0.0730303493190356\n",
      "  (0, 3216)\t0.05709504592964745\n",
      "  (0, 3106)\t0.05533641726780593\n",
      "  (0, 2899)\t0.1417354885093958\n",
      "  (0, 2865)\t0.07749564245032714\n",
      "  (0, 2832)\t0.05468680210517411\n",
      "  (0, 2828)\t0.06286159350908144\n",
      "  (0, 2700)\t0.08218723403773485\n",
      "  (0, 2291)\t0.04795768849514628\n",
      "  (0, 2002)\t0.162278814888454\n",
      "  (0, 1972)\t0.06871637980052187\n",
      "  (0, 1904)\t0.041414509447919065\n",
      "  (0, 1863)\t0.08610846776391408\n",
      "  (0, 1834)\t0.0690614198212435\n",
      "  (0, 1672)\t0.4994058304448227\n",
      "  (0, 1499)\t0.0708677442546979\n",
      "  (0, 1469)\t0.09542354022058913\n",
      "  (0, 1376)\t0.09542354022058913\n",
      "  (0, 1220)\t0.07373485879832985\n",
      "  (0, 1041)\t0.1074754468082423\n",
      "  (0, 704)\t0.0716824767856094\n",
      "  (0, 535)\t0.05459705582627358\n",
      "  (0, 390)\t0.0793028385402175\n",
      "  (0, 293)\t0.09542354022058913\n",
      "  (0, 68)\t0.07456687228312676\n"
     ]
    },
    {
     "data": {
      "text/plain": [
       "array([1])"
      ]
     },
     "execution_count": 55,
     "metadata": {},
     "output_type": "execute_result"
    }
   ],
   "source": [
    "import pandas as pd\n",
    "import re\n",
    "import nltk\n",
    "from nltk.tokenize import word_tokenize\n",
    "from sklearn import linear_model\n",
    "from sklearn.feature_extraction.text import TfidfVectorizer\n",
    "nltk.download('stopwords')\n",
    "from nltk.corpus import stopwords\n",
    "class Preprocess:\n",
    "    \n",
    "\n",
    "    # def __init__(self, phrase):\n",
    "    #     self.supp_virg(phrase)\n",
    "    #     self.__phrase = phrase\n",
    "\n",
    "    # @classmethod    \n",
    "    # def lower_case(cls, phrase):\n",
    "    #     phrase = phrase(str.lower)\n",
    "    #     return(phrase)\n",
    "\n",
    "    @staticmethod    \n",
    "\n",
    "    def supp_virg(phrase):\n",
    "        if type(phrase) != str:\n",
    "            raise TypeError(\"please enter the string\")\n",
    "        phrase = re.sub('[^\\w\\s]',' ', phrase)\n",
    "        return(phrase)\n",
    "    \n",
    "    @staticmethod    \n",
    "\n",
    "    def lower_case(phrase):\n",
    "        phrase = phrase.lower()\n",
    "        return(phrase)\n",
    "    \n",
    "    @staticmethod\n",
    "\n",
    "    def wrdtokens(phrase):\n",
    "        text_tokens = word_tokenize(phrase)\n",
    "        return(text_tokens)\n",
    "    \n",
    "    @staticmethod\n",
    "\n",
    "    def stopwords(phrase):\n",
    "        pattern = re.compile(r'\\b(' + r'|'.join(stopwords.words('english')) + r')\\b\\s*')\n",
    "        phrase = pattern.sub('', phrase)\n",
    "        return(phrase)\n",
    "    \n",
    "    @staticmethod\n",
    "\n",
    "    def vectorizer_app(donnee_train):\n",
    "        tfidf = TfidfVectorizer()\n",
    "        tfidf.fit(donnee_train)\n",
    "        return(tfidf)\n",
    "tfidf_vec=Preprocess.vectorizer_app(X_train)\n",
    "p = Preprocess.supp_virg(\"Voilà, 1 mois après sa sortie, j'ai pu m'asseoir confortablement dans une salle quasiment désertique pour le terme de ce que Avengers : Infinity Wars avait agréablement initié. Abandonné sur un final d'une désespérance bienvenue, après tant d'années faites de quelques hauts (Avengers, Thor Ragnarok, Les guardiens de la galaxie), pas mal de  (les Iron Man, Thor 1 et 2, Ant-Man) et de beaucoup de bas (les Captain America, le second Guardien de la galaxie ou le second Avengers), la série cinématographique à succès commerciale touche à sa fin. Il faut conclure, de la plus... inutile des façons.Triste constat. Ce Avengers m'a tout simplement semblé être une perte de temps de 3 heures à l'introduction pourtant intéressante, avec un clin d'oeil en forme de mise en abîme qui lorgne plus vers le fan service que vers le véritable intérêt scénaristique. Le déroulé de cette dernière chance pour restaurer le cours des choses et venir à bout de Thanos traîne une certaine légèreté et une nostalgie bien souvent personnelle de nos super-héros, en décalage avec la criticité de cette action de la dernière chance. Là où une noirceur à la manière d'un  aurait été la bienvenue, Avengers : Endgame joue la carte de la sympathie et du rassemblement qui fonctionnait bien mieux avec l'histoire du 1er opus (mais qui reste électrisant dans la bataille finale). Côté divertissement, on a connu mieux et plus inspiré et au final, on passe trop de temps à attendre, sans véritable adhésion, une conclusion bien trop évidente pour être pleinement satisfaisante. Les spoilers en pâtissent et le sort de nos héros nous rappellent que malgré les années, le MCU n'a jamais réussi a décupler un quelconque attachement pour ses personnages. Certaines scènes s'empêtrent dans le ridicule\")\n",
    "print()\n",
    "# import re\n",
    "e = Preprocess.lower_case(p)\n",
    "print(p)\n",
    "\n",
    "x = Preprocess.stopwords(e)\n",
    "print(x)\n",
    "\n",
    "\n",
    "m = tfidf_vec.transform([x])\n",
    "print(m)\n",
    "\n",
    "classifier.predict(m)"
   ]
  }
 ],
 "metadata": {
  "kernelspec": {
   "display_name": "myenv",
   "language": "python",
   "name": "python3"
  },
  "language_info": {
   "codemirror_mode": {
    "name": "ipython",
    "version": 3
   },
   "file_extension": ".py",
   "mimetype": "text/x-python",
   "name": "python",
   "nbconvert_exporter": "python",
   "pygments_lexer": "ipython3",
   "version": "3.8.10 (default, Jun 22 2022, 20:18:18) \n[GCC 9.4.0]"
  },
  "orig_nbformat": 4,
  "vscode": {
   "interpreter": {
    "hash": "ffd892f48219bf053bc6dd95be372ece365320176c2deb41f920bfcbdb6ee0cf"
   }
  }
 },
 "nbformat": 4,
 "nbformat_minor": 2
}
